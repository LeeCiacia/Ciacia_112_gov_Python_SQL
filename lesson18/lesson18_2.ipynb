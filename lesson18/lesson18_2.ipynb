{
 "cells": [
  {
   "cell_type": "code",
   "execution_count": 8,
   "metadata": {},
   "outputs": [
    {
     "name": "stdout",
     "output_type": "stream",
     "text": [
      "<connection object at 0x10420c580; dsn: 'user=postgresql_chihlee_mltr_user password=xxx dbname=postgresql_chihlee_mltr host=dpg-cncof5un7f5s73bhrf30-a.singapore-postgres.render.com', closed: 0>\n"
     ]
    }
   ],
   "source": [
    "import psycopg2  #連線資料庫\n",
    "import os  #抓電腦的虛擬環境變數\n",
    "from dotenv import load_dotenv  #建立電腦的環境變數(不是真實的，是模擬的)，並且載入\n",
    "load_dotenv()\n",
    "\n",
    "conn = psycopg2.connect(os.environ['POSTGRE_PASSWORD'])  #連線到SQL的Taipei，env那邊連結render的密碼。\n",
    "print(conn)\n",
    "\n"
   ]
  },
  {
   "cell_type": "code",
   "execution_count": 9,
   "metadata": {},
   "outputs": [
    {
     "name": "stdout",
     "output_type": "stream",
     "text": [
      "建立資料表完成\n"
     ]
    }
   ],
   "source": [
    "import psycopg2  #連線資料庫\n",
    "import os  #抓電腦的虛擬環境變數\n",
    "from dotenv import load_dotenv  #建立電腦的環境變數(不是真實的，是模擬的)，並且載入\n",
    "load_dotenv()\n",
    "\n",
    "with psycopg2.connect(os.environ['POSTGRE_PASSWORD']) as conn: #改成with as讓他跑完可以自動關閉\n",
    "    with conn.cursor() as cursor:\n",
    "        #建立資料表\n",
    "        sql='''\n",
    "            CREATE TABLE IF NOT EXISTS 站點資訊(\n",
    "\t            站點編號 VARCHAR(10),\n",
    "\t            站點名稱 VARCHAR(30) NOT NULL,\n",
    "\t            行政區 VARCHAR(10) NOT NULL,\n",
    "\t            站點地址 VARCHAR(50),\n",
    "\t            lat NUMERIC(15,11),\n",
    "\t            lng NUMERIC(15,11),\n",
    "\t            PRIMARY KEY(站點編號)\n",
    "            );\n",
    "\n",
    "            CREATE TABLE IF NOT EXISTS youbike(\n",
    "                日期 TIMESTAMP,\n",
    "                編號 VARCHAR(10),\n",
    "                總車輛 INTEGER,\n",
    "                可借 INTEGER,\n",
    "                可還 INTEGER,\n",
    "                活動 BOOLEAN,\n",
    "                PRIMARY KEY(日期,編號),\n",
    "                FOREIGN KEY(編號) REFERENCES 站點資訊(站點編號)\n",
    "                ON DELETE CASCADE\n",
    "                ON UPDATE CASCADE\n",
    "            );\n",
    "\n",
    "        '''\n",
    "        cursor.execute(sql)\n",
    "\n",
    "print('建立資料表完成')\n",
    "\n"
   ]
  }
 ],
 "metadata": {
  "kernelspec": {
   "display_name": "base",
   "language": "python",
   "name": "python3"
  },
  "language_info": {
   "codemirror_mode": {
    "name": "ipython",
    "version": 3
   },
   "file_extension": ".py",
   "mimetype": "text/x-python",
   "name": "python",
   "nbconvert_exporter": "python",
   "pygments_lexer": "ipython3",
   "version": "3.12.2"
  }
 },
 "nbformat": 4,
 "nbformat_minor": 2
}
