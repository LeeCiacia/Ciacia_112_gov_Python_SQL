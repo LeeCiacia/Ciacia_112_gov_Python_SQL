{
 "cells": [
  {
   "cell_type": "code",
   "execution_count": 3,
   "metadata": {},
   "outputs": [],
   "source": [
    "students=[{'name':'LeeCiacia','chinese':82,'math':19,'english':22},  #這就是二維資料(表格～) 這裡面list有三筆資料、四個元素(name,chinese,math.english)\n",
    "          {'name':'CiaNiNi','chinese':28,'math':91,'english':33},\n",
    "          {'name':'ThaiCiacia','chinese':79,'math':89,'english':44}]"
   ]
  },
  {
   "cell_type": "code",
   "execution_count": 5,
   "metadata": {},
   "outputs": [
    {
     "name": "stdout",
     "output_type": "stream",
     "text": [
      "{'name': 'LeeCiacia', 'chinese': 82, 'math': 19, 'english': 22}\n",
      "{'name': 'CiaNiNi', 'chinese': 28, 'math': 91, 'english': 33}\n",
      "{'name': 'ThaiCiacia', 'chinese': 79, 'math': 89, 'english': 44}\n"
     ]
    }
   ],
   "source": [
    "for student in students: #串列資料，巢狀迴圈   ＃for 元素們 in 序列 → 會把所有元素跟資料都依序列出\n",
    "    print(student)      #會把三筆資料都列出來 依序：第一次、第二次、第三次"
   ]
  },
  {
   "cell_type": "code",
   "execution_count": 9,
   "metadata": {},
   "outputs": [
    {
     "name": "stdout",
     "output_type": "stream",
     "text": [
      "LeeCiacia\n",
      "82\n",
      "19\n",
      "22\n",
      "CiaNiNi\n",
      "28\n",
      "91\n",
      "33\n",
      "ThaiCiacia\n",
      "79\n",
      "89\n",
      "44\n"
     ]
    }
   ],
   "source": [
    "for student in students:\n",
    "    for key in student:\n",
    "        print(student[key])"
   ]
  },
  {
   "cell_type": "code",
   "execution_count": 10,
   "metadata": {},
   "outputs": [
    {
     "name": "stdout",
     "output_type": "stream",
     "text": [
      "LeeCiacia\n",
      "82\n",
      "19\n",
      "22\n",
      "~~~~~~~~~~~~\n",
      "CiaNiNi\n",
      "28\n",
      "91\n",
      "33\n",
      "~~~~~~~~~~~~\n",
      "ThaiCiacia\n",
      "79\n",
      "89\n",
      "44\n",
      "~~~~~~~~~~~~\n"
     ]
    }
   ],
   "source": [
    "for student in students:\n",
    "    for key in student:\n",
    "        print(student[key])\n",
    "    print(\"~~~~~~~~~~~~\")   #上面三行執行完一次迴圈之後，會priint這行～～～～～ 做區隔 然後再回到第一行重複跑"
   ]
  },
  {
   "cell_type": "code",
   "execution_count": 11,
   "metadata": {},
   "outputs": [
    {
     "name": "stdout",
     "output_type": "stream",
     "text": [
      "1\n",
      "2\n",
      "3\n",
      "4\n",
      "5\n"
     ]
    }
   ],
   "source": [
    "numbers = [1, 2, 3, 4, 5]\n",
    "for num in numbers:\n",
    "    print(num)\n"
   ]
  }
 ],
 "metadata": {
  "kernelspec": {
   "display_name": "Python 3",
   "language": "python",
   "name": "python3"
  },
  "language_info": {
   "codemirror_mode": {
    "name": "ipython",
    "version": 3
   },
   "file_extension": ".py",
   "mimetype": "text/x-python",
   "name": "python",
   "nbconvert_exporter": "python",
   "pygments_lexer": "ipython3",
   "version": "3.10.13"
  }
 },
 "nbformat": 4,
 "nbformat_minor": 2
}
