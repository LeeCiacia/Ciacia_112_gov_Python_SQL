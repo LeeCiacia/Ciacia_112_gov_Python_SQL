{
 "cells": [
  {
   "cell_type": "code",
   "execution_count": 10,
   "metadata": {},
   "outputs": [],
   "source": [
    "#自訂function,參數\n",
    "def say_hello():\n",
    "    print(\"Hello\")"
   ]
  },
  {
   "cell_type": "code",
   "execution_count": 11,
   "metadata": {},
   "outputs": [
    {
     "name": "stdout",
     "output_type": "stream",
     "text": [
      "Hello\n"
     ]
    }
   ],
   "source": [
    "#呼叫function, 引數值\n",
    "say_hello()"
   ]
  },
  {
   "cell_type": "code",
   "execution_count": 33,
   "metadata": {},
   "outputs": [],
   "source": [
    "def say_hello(name):  #這邊name是參數,\n",
    "    print(f'Hello! {name}')"
   ]
  },
  {
   "cell_type": "code",
   "execution_count": 34,
   "metadata": {},
   "outputs": [
    {
     "name": "stdout",
     "output_type": "stream",
     "text": [
      "Hello! 李蝦泥\n"
     ]
    }
   ],
   "source": [
    "#引數值的呼叫\n",
    "say_hello('李蝦泥')"
   ]
  },
  {
   "cell_type": "code",
   "execution_count": 35,
   "metadata": {},
   "outputs": [
    {
     "name": "stdout",
     "output_type": "stream",
     "text": [
      "Hello! 李阿尼\n"
     ]
    }
   ],
   "source": [
    "#引數名稱的呼叫\n",
    "say_hello(name='李阿尼')"
   ]
  },
  {
   "cell_type": "code",
   "execution_count": 36,
   "metadata": {},
   "outputs": [],
   "source": [
    "def menu(wine, entree, dessert):\n",
    "    print(f'前酒:{wine}')\n",
    "    print(f'主餐:{entree}')\n",
    "    print(f'甜點:{dessert}')"
   ]
  },
  {
   "cell_type": "code",
   "execution_count": 37,
   "metadata": {},
   "outputs": [
    {
     "name": "stdout",
     "output_type": "stream",
     "text": [
      "前酒:紅酒\n",
      "主餐:牛排\n",
      "甜點:布丁\n"
     ]
    }
   ],
   "source": [
    "#引數值的呼叫,必須依照參數的順序\n",
    "menu('紅酒','牛排','布丁')"
   ]
  },
  {
   "cell_type": "code",
   "execution_count": 38,
   "metadata": {},
   "outputs": [
    {
     "name": "stdout",
     "output_type": "stream",
     "text": [
      "前酒:紅酒\n",
      "主餐:牛排\n",
      "甜點:布丁\n"
     ]
    }
   ],
   "source": [
    "#引數名稱的呼叫,不需要依照參數的順序\n",
    "menu(entree='牛排',dessert='布丁',wine='紅酒')"
   ]
  },
  {
   "cell_type": "code",
   "execution_count": 39,
   "metadata": {},
   "outputs": [
    {
     "name": "stdout",
     "output_type": "stream",
     "text": [
      "前酒:紅酒\n",
      "主餐:牛排\n",
      "甜點:布丁\n"
     ]
    }
   ],
   "source": [
    "#混合呼叫\n",
    "#前面使用引數值 →'紅酒'\n",
    "#後面使用引數名稱呼叫 → dessert='布丁',entree='牛排'\n",
    "menu('紅酒',dessert='布丁',entree='牛排')"
   ]
  },
  {
   "cell_type": "code",
   "execution_count": 40,
   "metadata": {},
   "outputs": [],
   "source": [
    "#參數可以有type hint 加入str 表示要跑出字串\n",
    "\n",
    "def menu(wine:str, entree:str, dessert:str):\n",
    "    print(f'前酒:{wine}')\n",
    "    print(f'主餐:{entree}')\n",
    "    print(f'甜點:{dessert}')"
   ]
  },
  {
   "cell_type": "code",
   "execution_count": 41,
   "metadata": {},
   "outputs": [
    {
     "name": "stdout",
     "output_type": "stream",
     "text": [
      "前酒:紅酒\n",
      "主餐:牛排\n",
      "甜點:布丁\n"
     ]
    }
   ],
   "source": [
    "menu('紅酒',dessert='布丁',entree='牛排')"
   ]
  },
  {
   "cell_type": "code",
   "execution_count": 44,
   "metadata": {},
   "outputs": [],
   "source": [
    "#function傳出的值\n",
    "def menu(wine:str, entree:str, dessert:str)->dict[str,str]:  #這段可有可無->dict[str,str]，但有這個可讀性變高。\n",
    "    return{'前酒':wine,'主餐':entree,'甜點':dessert}  #這是一個dictiobnary"
   ]
  },
  {
   "cell_type": "code",
   "execution_count": 46,
   "metadata": {},
   "outputs": [
    {
     "data": {
      "text/plain": [
       "{'前酒': '紅酒', '主餐': '牛排', '甜點': '布丁'}"
      ]
     },
     "execution_count": 46,
     "metadata": {},
     "output_type": "execute_result"
    }
   ],
   "source": [
    "my_menu=menu('紅酒',dessert='布丁',entree='牛排')\n",
    "my_menu"
   ]
  },
  {
   "cell_type": "code",
   "execution_count": 50,
   "metadata": {},
   "outputs": [],
   "source": [
    "#參數的default value\n",
    "def menu(wine:str, entree:str, dessert:str='布丁')->dict[str,str]:   #wine跟entree沒有預設值，但甜點有預設是布丁\n",
    "    return{'前酒':wine,'主餐':entree,'甜點':dessert}  "
   ]
  },
  {
   "cell_type": "code",
   "execution_count": 49,
   "metadata": {},
   "outputs": [
    {
     "data": {
      "text/plain": [
       "{'前酒': '白酒', '主餐': '牛排', '甜點': '布丁'}"
      ]
     },
     "execution_count": 49,
     "metadata": {},
     "output_type": "execute_result"
    }
   ],
   "source": [
    "menu('白酒','牛排')   #這樣跑出來會有甜點預設值布丁"
   ]
  },
  {
   "cell_type": "code",
   "execution_count": 51,
   "metadata": {},
   "outputs": [
    {
     "name": "stdout",
     "output_type": "stream",
     "text": [
      "{'前酒': '白酒', '主餐': '牛排', '甜點': '布丁'}\n",
      "{'前酒': '白酒', '主餐': '牛排', '甜點': '水果'}\n"
     ]
    }
   ],
   "source": [
    "print(menu('白酒','牛排'))\n",
    "print(menu('白酒','牛排',dessert='水果'))  "
   ]
  },
  {
   "cell_type": "code",
   "execution_count": 52,
   "metadata": {},
   "outputs": [],
   "source": [
    "#\n",
    "def menu(wine:str, entree:str='牛排', dessert:str='布丁')->dict[str,str]:   #wine沒有預設值，但entree跟甜點有預設是牛排跟布丁\n",
    "    return{'前酒':wine,'主餐':entree,'甜點':dessert}  "
   ]
  },
  {
   "cell_type": "code",
   "execution_count": 53,
   "metadata": {},
   "outputs": [
    {
     "name": "stdout",
     "output_type": "stream",
     "text": [
      "{'前酒': '紅酒', '主餐': '牛排', '甜點': '布丁'}\n",
      "{'前酒': '紅酒', '主餐': '牛排', '甜點': '芭樂'}\n",
      "{'前酒': '紅酒', '主餐': '雞排', '甜點': '芭樂'}\n"
     ]
    }
   ],
   "source": [
    "print(menu('紅酒'))\n",
    "print(menu('紅酒',dessert='芭樂'))\n",
    "print(menu('紅酒',dessert='芭樂',entree='雞排'))"
   ]
  },
  {
   "cell_type": "code",
   "execution_count": 55,
   "metadata": {},
   "outputs": [
    {
     "data": {
      "text/plain": [
       "{'前酒': '紅酒', '主餐': '牛排', '甜點': '布丁'}"
      ]
     },
     "execution_count": 55,
     "metadata": {},
     "output_type": "execute_result"
    }
   ],
   "source": [
    "def menu(wine:str='紅酒', entree:str='牛排', dessert:str='布丁')->dict[str,str]:   \n",
    "    return{'前酒':wine,'主餐':entree,'甜點':dessert}  \n",
    "\n",
    "menu()"
   ]
  },
  {
   "cell_type": "code",
   "execution_count": 56,
   "metadata": {},
   "outputs": [
    {
     "name": "stdout",
     "output_type": "stream",
     "text": [
      "()\n",
      "('白酒', '紅酒', '威士忌')\n"
     ]
    }
   ],
   "source": [
    "def menu(*args):   #如果有*表示沒有限制\n",
    "    print(args)\n",
    "\n",
    "menu()\n",
    "menu('白酒','紅酒','威士忌')"
   ]
  },
  {
   "cell_type": "code",
   "execution_count": 61,
   "metadata": {},
   "outputs": [
    {
     "name": "stdout",
     "output_type": "stream",
     "text": [
      "{}\n",
      "{'wine1': '白酒', 'wine2': '紅酒', 'wine3': '威士忌'}\n"
     ]
    }
   ],
   "source": [
    "def menu(**kwargs):\n",
    "    print(kwargs)\n",
    "\n",
    "menu()\n",
    "menu(wine1='白酒',wine2='紅酒',wine3='威士忌')   #可以無限加，但要用引數名稱"
   ]
  },
  {
   "cell_type": "code",
   "execution_count": 62,
   "metadata": {},
   "outputs": [
    {
     "name": "stdout",
     "output_type": "stream",
     "text": [
      "1-2-3.0-True.\n"
     ]
    }
   ],
   "source": [
    "print('1',2,3.0,True,sep='-',end='.\\n')"
   ]
  }
 ],
 "metadata": {
  "kernelspec": {
   "display_name": "Python 3",
   "language": "python",
   "name": "python3"
  },
  "language_info": {
   "codemirror_mode": {
    "name": "ipython",
    "version": 3
   },
   "file_extension": ".py",
   "mimetype": "text/x-python",
   "name": "python",
   "nbconvert_exporter": "python",
   "pygments_lexer": "ipython3",
   "version": "3.10.13"
  }
 },
 "nbformat": 4,
 "nbformat_minor": 2
}
