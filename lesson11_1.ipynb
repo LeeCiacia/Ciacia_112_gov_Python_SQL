{
 "cells": [
  {
   "cell_type": "code",
   "execution_count": 4,
   "metadata": {},
   "outputs": [
    {
     "data": {
      "text/plain": [
       "psycopg2.extensions.connection"
      ]
     },
     "execution_count": 4,
     "metadata": {},
     "output_type": "execute_result"
    }
   ],
   "source": [
    "import psycopg2\n",
    "import os\n",
    "from psycopg2 import connect\n",
    "from dotenv import load_dotenv \n",
    "\n",
    "#初始化環境變數\n",
    "load_dotenv()\n",
    "\n",
    "#使用環境變數POSTGRE_PASSWORD, 取的密碼,並建立connect的實體\n",
    "conn:connect = psycopg2.connect(os.environ['POSTGRE_PASSWORD'])\n",
    "type(conn)"
   ]
  },
  {
   "cell_type": "code",
   "execution_count": 5,
   "metadata": {},
   "outputs": [],
   "source": [
    "#使用環境變數POSTGRE_PASSWORD, 取的密碼,並建立connect的實體\n",
    "conn:connect = psycopg2.connect(os.environ['POSTGRE_PASSWORD'])\n",
    "\n",
    "#建立cursor實體，準備執行SQL\n",
    "cur = conn.cursor()\n",
    "\n",
    "sql = '''\n",
    "CREATE TABLE IF NOT EXISTS student(\n",
    "\tid SERIAL PRIMARY KEY,\n",
    "\tname VARCHAR(20),\n",
    "\tChinese INT, /*也可以用SMALLINT*/\n",
    "\tEnglish INT,\n",
    "\tMath INT\n",
    ");\n",
    "'''\n",
    "\n",
    "#執行SQL\n",
    "cur.execute(sql)\n",
    "\n",
    "#確認資料可以執行\n",
    "conn.commit()\n",
    "\n",
    "#關閉cursor\n",
    "cur.close()\n",
    "\n",
    "#關閉連線\n",
    "conn.close()\n"
   ]
  },
  {
   "cell_type": "markdown",
   "metadata": {},
   "source": [
    "##新增資料"
   ]
  },
  {
   "cell_type": "code",
   "execution_count": 6,
   "metadata": {},
   "outputs": [],
   "source": [
    "#使用環境變數POSTGRE_PASSWORD, 取的密碼,並建立connect的實體\n",
    "conn:connect = psycopg2.connect(os.environ['POSTGRE_PASSWORD'])\n",
    "\n",
    "#建立cursor實體，準備執行SQL\n",
    "cur = conn.cursor()\n",
    "\n",
    "sql = '''\n",
    "INSERT INTO student (name, chinese, english, math)\n",
    "VALUES('陳蝦泥',95,92,98);\n",
    "'''\n",
    "\n",
    "#執行SQL\n",
    "cur.execute(sql)\n",
    "\n",
    "#確認資料可以執行\n",
    "conn.commit()\n",
    "\n",
    "#關閉cursor\n",
    "cur.close()\n",
    "\n",
    "#關閉連線\n",
    "conn.close()\n"
   ]
  },
  {
   "cell_type": "markdown",
   "metadata": {},
   "source": [
    "###顯示程式碼"
   ]
  },
  {
   "cell_type": "code",
   "execution_count": 7,
   "metadata": {},
   "outputs": [
    {
     "name": "stdout",
     "output_type": "stream",
     "text": [
      "[(1, '李蝦蝦', 75, 89, 70), (2, '陳蝦泥', 95, 92, 98)]\n"
     ]
    }
   ],
   "source": [
    "#使用環境變數POSTGRE_PASSWORD, 取的密碼,並建立connect的實體\n",
    "conn:connect = psycopg2.connect(os.environ['POSTGRE_PASSWORD'])\n",
    "\n",
    "#建立cursor實體，準備執行SQL\n",
    "cur = conn.cursor()\n",
    "\n",
    "sql = '''\n",
    "SELECT *\n",
    "FROM student\n",
    "'''\n",
    "\n",
    "#執行SQL\n",
    "cur.execute(sql)\n",
    "\n",
    "#顯示資料\n",
    "print(cur.fetchall())\n",
    "\n",
    "#確認資料可以執行\n",
    "conn.commit()\n",
    "\n",
    "#關閉cursor\n",
    "cur.close()\n",
    "\n",
    "#關閉連線\n",
    "conn.close()\n"
   ]
  }
 ],
 "metadata": {
  "kernelspec": {
   "display_name": "myenv",
   "language": "python",
   "name": "python3"
  },
  "language_info": {
   "codemirror_mode": {
    "name": "ipython",
    "version": 3
   },
   "file_extension": ".py",
   "mimetype": "text/x-python",
   "name": "python",
   "nbconvert_exporter": "python",
   "pygments_lexer": "ipython3",
   "version": "3.10.13"
  }
 },
 "nbformat": 4,
 "nbformat_minor": 2
}
