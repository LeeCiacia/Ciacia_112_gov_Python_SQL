{
 "cells": [
  {
   "cell_type": "code",
   "execution_count": 1,
   "metadata": {},
   "outputs": [
    {
     "name": "stdout",
     "output_type": "stream",
     "text": [
      "有a1的key\n",
      "10\n",
      "================\n",
      "有a2的key\n",
      "20\n"
     ]
    }
   ],
   "source": [
    "#dictionary的操作\n",
    "mydict:dict[str,int]={'a1':10,'a2':20}  #mydict裡面有a1跟a2，值分別是10跟20\n",
    "if 'a1' in mydict:   #檢查mydict裡面有沒有a1\n",
    "    print('有a1的key')  #顯示有a1的key\n",
    "    print(mydict['a1']) #列印出a1跟a2的值\n",
    "print('================')\n",
    "if 'a2' in mydict:\n",
    "    print('有a2的key')\n",
    "    print(mydict['a2'])\n",
    "print('================')\n",
    "if 'a3' in mydict:  #因為沒有a3，所以不會出現\n",
    "    print('有a3的key')\n",
    "    print(mydict['a3']) "
   ]
  },
  {
   "cell_type": "code",
   "execution_count": 3,
   "metadata": {},
   "outputs": [
    {
     "data": {
      "text/plain": [
       "{'a1': 100, 'a2': 200, 'a3': 300}"
      ]
     },
     "execution_count": 3,
     "metadata": {},
     "output_type": "execute_result"
    }
   ],
   "source": [
    "#如果mydict裡面沒有東西，可以自己設定值\n",
    "mydict:dict[str,int]={}\n",
    "if 'a1' not in mydict:   #如果mydict裡面沒有a1\n",
    "    mydict['a1']=100  #建立a1=100\n",
    "\n",
    "if 'a2' not in mydict:   #如果mydict裡面沒有a2\n",
    "    mydict['a2']=200  #建立a2=200\n",
    "\n",
    "if 'a3' not in mydict:   #如果mydict裡面沒有a3\n",
    "    mydict['a3']=300  #建立a3=300\n",
    "\n",
    "mydict  #最後要跑出mydict"
   ]
  }
 ],
 "metadata": {
  "kernelspec": {
   "display_name": "myenv",
   "language": "python",
   "name": "python3"
  },
  "language_info": {
   "codemirror_mode": {
    "name": "ipython",
    "version": 3
   },
   "file_extension": ".py",
   "mimetype": "text/x-python",
   "name": "python",
   "nbconvert_exporter": "python",
   "pygments_lexer": "ipython3",
   "version": "3.10.13"
  }
 },
 "nbformat": 4,
 "nbformat_minor": 2
}
