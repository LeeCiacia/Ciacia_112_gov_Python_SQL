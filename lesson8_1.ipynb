{
 "cells": [
  {
   "cell_type": "code",
   "execution_count": 1,
   "metadata": {},
   "outputs": [
    {
     "name": "stdout",
     "output_type": "stream",
     "text": [
      "Hello Python!\n"
     ]
    }
   ],
   "source": [
    "print(\"Hello Python!\")"
   ]
  },
  {
   "cell_type": "code",
   "execution_count": 2,
   "metadata": {},
   "outputs": [],
   "source": [
    "n=10\n",
    "m=5.0\n",
    "name='LeeCiacia' #str\n",
    "is_google=True #bool"
   ]
  },
  {
   "cell_type": "code",
   "execution_count": 3,
   "metadata": {},
   "outputs": [
    {
     "name": "stdout",
     "output_type": "stream",
     "text": [
      "10\n",
      "5.0\n",
      "LeeCiacia\n",
      "True\n"
     ]
    }
   ],
   "source": [
    "print(n)\n",
    "print(m)\n",
    "print(name)\n",
    "print(is_google)"
   ]
  },
  {
   "cell_type": "code",
   "execution_count": 2,
   "metadata": {},
   "outputs": [
    {
     "name": "stdout",
     "output_type": "stream",
     "text": [
      "<class 'tuple'>\n"
     ]
    },
    {
     "data": {
      "text/plain": [
       "('a', 'b', 'c')"
      ]
     },
     "execution_count": 2,
     "metadata": {},
     "output_type": "execute_result"
    }
   ],
   "source": [
    "t1=(1,2,3,4,5) #tuple 可以儲存多個值，但裡面內容建完不能更改\n",
    "t1\n",
    "print(type(t1)) #有優先順序：先做type、再做print\n",
    "\n",
    "t2=('a','b','c')\n",
    "t2"
   ]
  },
  {
   "cell_type": "code",
   "execution_count": 6,
   "metadata": {},
   "outputs": [],
   "source": [
    "#tuple,暫時的資料\n",
    "#tuple的內容不能修改\n",
    "#tuple最常使用在拆解法(拆解tuple,給變數)\n",
    "\n",
    "(name,chinese,math,english)=('LeeCiacia',82,19,22)\n",
    "name,chinese,math,english='LeeCiacia',82,19,22 #可以把括弧拿掉"
   ]
  },
  {
   "cell_type": "code",
   "execution_count": 7,
   "metadata": {},
   "outputs": [
    {
     "name": "stdout",
     "output_type": "stream",
     "text": [
      "LeeCiacia\n",
      "82\n",
      "19\n",
      "22\n"
     ]
    }
   ],
   "source": [
    "print(name)\n",
    "print(chinese)\n",
    "print(math)\n",
    "print(english)"
   ]
  },
  {
   "cell_type": "code",
   "execution_count": 8,
   "metadata": {},
   "outputs": [
    {
     "data": {
      "text/plain": [
       "[1, 2, 3, 4]"
      ]
     },
     "execution_count": 8,
     "metadata": {},
     "output_type": "execute_result"
    }
   ],
   "source": [
    "#list_儲存多個值，用中括號[]，Python中的重點\n",
    "mylist=[1,2,3,4]\n",
    "mylist"
   ]
  },
  {
   "cell_type": "code",
   "execution_count": 10,
   "metadata": {},
   "outputs": [
    {
     "name": "stdout",
     "output_type": "stream",
     "text": [
      "<class 'list'>\n"
     ]
    }
   ],
   "source": [
    "print(type(mylist)) #邏輯是：先列出我要做的資料(type之類)，然後再打print表示我要顯示的內容。"
   ]
  },
  {
   "cell_type": "code",
   "execution_count": 12,
   "metadata": {},
   "outputs": [],
   "source": [
    "student1=['LeeCiacia',82,19,22] #[0,1,2,3]共4個元素"
   ]
  },
  {
   "cell_type": "code",
   "execution_count": 14,
   "metadata": {},
   "outputs": [
    {
     "name": "stdout",
     "output_type": "stream",
     "text": [
      "LeeCiacia\n",
      "82\n",
      "19\n",
      "22\n"
     ]
    }
   ],
   "source": [
    "#subcript：取出上面student1的資料\n",
    "print(student1[0])\n",
    "print(student1[1])\n",
    "print(student1[2])\n",
    "print(student1[3])"
   ]
  },
  {
   "cell_type": "code",
   "execution_count": 15,
   "metadata": {},
   "outputs": [
    {
     "name": "stdout",
     "output_type": "stream",
     "text": [
      "LeeCiacia\n",
      "82\n",
      "19\n",
      "22\n"
     ]
    }
   ],
   "source": [
    "#list iterable\n",
    "for element in student1: #[LeeCiacia',82,19,22]＝序號[0,1,2,3]共4個元素 #for in 迴圈，把元素一個個拆解出來\n",
    "    print(element) #這邊會把4個元素，一個個都print出來(跑4次) 這牌要縮排"
   ]
  },
  {
   "cell_type": "code",
   "execution_count": 16,
   "metadata": {},
   "outputs": [
    {
     "name": "stdout",
     "output_type": "stream",
     "text": [
      "H\n",
      "e\n",
      "l\n",
      "l\n",
      "o\n",
      "!\n",
      "P\n",
      "y\n",
      "t\n",
      "h\n",
      "o\n",
      "n\n"
     ]
    }
   ],
   "source": [
    "greeting='Hello!Python'\n",
    "for ele in greeting: #ele=element\n",
    "    print(ele)"
   ]
  },
  {
   "cell_type": "code",
   "execution_count": 20,
   "metadata": {},
   "outputs": [
    {
     "data": {
      "text/plain": [
       "{'name': 'LeeCiacia', 'chinese': 82, 'math': 19, 'english': 22}"
      ]
     },
     "execution_count": 20,
     "metadata": {},
     "output_type": "execute_result"
    }
   ],
   "source": [
    "#dictionary 要用大括號{}，加入文字、引號、冒號：來標示資料是名字還是什麼的\n",
    "stu1={'name':'LeeCiacia', #可讀性要變高可以在逗號後換行\n",
    " 'chinese':82,\n",
    " 'math':19,\n",
    " 'english':22}\n",
    "        #dic={'key':value,'key':value.....} 讓資料更明確\n",
    "stu1   \n"
   ]
  },
  {
   "cell_type": "code",
   "execution_count": 18,
   "metadata": {},
   "outputs": [
    {
     "name": "stdout",
     "output_type": "stream",
     "text": [
      "<class 'dict'>\n"
     ]
    }
   ],
   "source": [
    "print(type(stu1))"
   ]
  },
  {
   "cell_type": "code",
   "execution_count": 19,
   "metadata": {},
   "outputs": [
    {
     "name": "stdout",
     "output_type": "stream",
     "text": [
      "name\n",
      "chinese\n",
      "math\n",
      "english\n"
     ]
    }
   ],
   "source": [
    "for key in stu1:  \n",
    "    print(key)"
   ]
  }
 ],
 "metadata": {
  "kernelspec": {
   "display_name": "Python 3",
   "language": "python",
   "name": "python3"
  },
  "language_info": {
   "codemirror_mode": {
    "name": "ipython",
    "version": 3
   },
   "file_extension": ".py",
   "mimetype": "text/x-python",
   "name": "python",
   "nbconvert_exporter": "python",
   "pygments_lexer": "ipython3",
   "version": "3.10.13"
  }
 },
 "nbformat": 4,
 "nbformat_minor": 2
}
