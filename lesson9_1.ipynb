{
 "cells": [
  {
   "cell_type": "code",
   "execution_count": 13,
   "metadata": {},
   "outputs": [
    {
     "name": "stdout",
     "output_type": "stream",
     "text": [
      "李阿蝦\n",
      "78\n",
      "92\n",
      "88\n"
     ]
    }
   ],
   "source": [
    "#使用dictionary 建立一筆資料 #建立dictionary的實體 \n",
    "#dict={'key':value,'key':value.....}=可用dict[str,any] str表示字串、any表任何數值\n",
    "student={'name':'李阿蝦',\n",
    "         'Chinese':78,\n",
    "         'English':92,\n",
    "         'Math':88\n",
    "         }\n",
    "print(student['name'])\n",
    "print(student['Chinese'])\n",
    "print(student['English'])\n",
    "print(student['Math'])"
   ]
  },
  {
   "cell_type": "code",
   "execution_count": 5,
   "metadata": {},
   "outputs": [
    {
     "name": "stdout",
     "output_type": "stream",
     "text": [
      "10\n",
      "20\n",
      "30\n"
     ]
    }
   ],
   "source": [
    "#用中括號建立list values:list [] #要全部都跑出來的話，前面都要加print()，就會都顯示出來，不然只會跑出最後一個\n",
    "values=[10,20,30]   #可以改寫這個辨認型別 values:list[int]=[10,20,30]\n",
    "print(values[0])  #0對應10, 1對應20, 2對應30\n",
    "print(values[1])\n",
    "print(values[2])\n"
   ]
  },
  {
   "cell_type": "code",
   "execution_count": 1,
   "metadata": {},
   "outputs": [
    {
     "name": "stdout",
     "output_type": "stream",
     "text": [
      "10\n",
      "20\n",
      "30\n"
     ]
    }
   ],
   "source": [
    "#for 變數 in iterable 資料  → for key in \n",
    "values:list[int]=[10,20,30] \n",
    "for value in values:\n",
    "    print(value)    \n"
   ]
  },
  {
   "cell_type": "code",
   "execution_count": 16,
   "metadata": {},
   "outputs": [
    {
     "name": "stdout",
     "output_type": "stream",
     "text": [
      "<class 'str'>\n",
      "key=name\n",
      "value=李阿蝦\n",
      "~~~~~~~~~~~~~\n",
      "<class 'str'>\n",
      "key=Chinese\n",
      "value=78\n",
      "~~~~~~~~~~~~~\n",
      "<class 'str'>\n",
      "key=English\n",
      "value=92\n",
      "~~~~~~~~~~~~~\n",
      "<class 'str'>\n",
      "key=Math\n",
      "value=88\n",
      "~~~~~~~~~~~~~\n"
     ]
    }
   ],
   "source": [
    "\n",
    "student:dict[str,any]={\n",
    "    'name':'李阿蝦',\n",
    "     'Chinese':78,\n",
    "     'English':92,\n",
    "     'Math':88\n",
    "     }\n",
    "\n",
    "for key in student:\n",
    "    print(type(key))\n",
    "    print(f'key={key}')     #利用字串插補➔ f'xxx{變數}xxxx{變數}‘\n",
    "    print(f'value={student[key]}')\n",
    "    print('~~~~~~~~~~~~~')\n"
   ]
  },
  {
   "cell_type": "code",
   "execution_count": 17,
   "metadata": {},
   "outputs": [
    {
     "name": "stdout",
     "output_type": "stream",
     "text": [
      "404\n",
      "沒有網頁發現\n"
     ]
    }
   ],
   "source": [
    "#tupe的拆解法\n",
    "code, error=(404,'沒有網頁發現')\n",
    "print(code)\n",
    "print(error)"
   ]
  },
  {
   "cell_type": "code",
   "execution_count": 22,
   "metadata": {},
   "outputs": [
    {
     "name": "stdout",
     "output_type": "stream",
     "text": [
      "索引編號:0\n",
      "value:10\n",
      "~~~~~~~~~~\n",
      "索引編號:1\n",
      "value:20\n",
      "~~~~~~~~~~\n",
      "索引編號:2\n",
      "value:30\n",
      "~~~~~~~~~~\n"
     ]
    }
   ],
   "source": [
    "#拆解法\n",
    "values:list[int]=[10,20,30] \n",
    "for idx,value in enumerate(values):\n",
    "    print(f'索引編號:{idx}')\n",
    "    print(f'value:{value}')\n",
    "    print('~~~~~~~~~~')"
   ]
  },
  {
   "cell_type": "code",
   "execution_count": 23,
   "metadata": {},
   "outputs": [
    {
     "data": {
      "text/plain": [
       "{'name': '李阿蝦', 'Chinese': 78, 'English': 92, 'Math': 88}"
      ]
     },
     "execution_count": 23,
     "metadata": {},
     "output_type": "execute_result"
    }
   ],
   "source": [
    "student:dict[str,any]={'name':'李阿蝦',\n",
    "         'Chinese':78,\n",
    "         'English':92,\n",
    "         'Math':88\n",
    "         }\n",
    "student"
   ]
  },
  {
   "cell_type": "code",
   "execution_count": 24,
   "metadata": {},
   "outputs": [
    {
     "name": "stdout",
     "output_type": "stream",
     "text": [
      "name\n",
      "Chinese\n",
      "English\n",
      "Math\n"
     ]
    }
   ],
   "source": [
    "#keys()\n",
    "for key in student.keys():\n",
    "    print(key)"
   ]
  },
  {
   "cell_type": "code",
   "execution_count": 27,
   "metadata": {},
   "outputs": [
    {
     "name": "stdout",
     "output_type": "stream",
     "text": [
      "李阿蝦\n",
      "78\n",
      "92\n",
      "88\n"
     ]
    }
   ],
   "source": [
    "#values()\n",
    "for value in student.values():\n",
    "    print(value)"
   ]
  },
  {
   "cell_type": "code",
   "execution_count": 28,
   "metadata": {},
   "outputs": [
    {
     "name": "stdout",
     "output_type": "stream",
     "text": [
      "name\n",
      "李阿蝦\n",
      "~~~~~~~~~\n",
      "Chinese\n",
      "78\n",
      "~~~~~~~~~\n",
      "English\n",
      "92\n",
      "~~~~~~~~~\n",
      "Math\n",
      "88\n",
      "~~~~~~~~~\n"
     ]
    }
   ],
   "source": [
    "#items()\n",
    "for key,value in student.items():\n",
    "    print(key)\n",
    "    print(value)\n",
    "    print('~~~~~~~~~')"
   ]
  },
  {
   "cell_type": "code",
   "execution_count": 29,
   "metadata": {},
   "outputs": [],
   "source": [
    "#用list包裝一筆筆的資料 \n",
    "students:list[dict]=[\n",
    "{'name':'李阿蝦','Chinese':78,'English':92, 'Math':88},\n",
    "{'name':'泥蝦蝦','Chinese':87,'English':82, 'Math':98},\n",
    "{'name':'蝦泥泥','Chinese':95,'English':72, 'Math':38},\n",
    "\n",
    "]"
   ]
  },
  {
   "cell_type": "code",
   "execution_count": 30,
   "metadata": {},
   "outputs": [
    {
     "name": "stdout",
     "output_type": "stream",
     "text": [
      "key=name,value=李阿蝦\n",
      "key=Chinese,value=78\n",
      "key=English,value=92\n",
      "key=Math,value=88\n",
      "~~~~~~~~~~\n",
      "key=name,value=泥蝦蝦\n",
      "key=Chinese,value=87\n",
      "key=English,value=82\n",
      "key=Math,value=98\n",
      "~~~~~~~~~~\n",
      "key=name,value=蝦泥泥\n",
      "key=Chinese,value=95\n",
      "key=English,value=72\n",
      "key=Math,value=38\n",
      "~~~~~~~~~~\n"
     ]
    }
   ],
   "source": [
    "for student in students:\n",
    "    for key,value in student.items():\n",
    "        print(f'key={key},value={value}')    #利用字串插補➔ f'xxx{變數}xxxx{變數}‘ \n",
    "    print('~~~~~~~~~~')"
   ]
  }
 ],
 "metadata": {
  "kernelspec": {
   "display_name": "Python 3",
   "language": "python",
   "name": "python3"
  },
  "language_info": {
   "codemirror_mode": {
    "name": "ipython",
    "version": 3
   },
   "file_extension": ".py",
   "mimetype": "text/x-python",
   "name": "python",
   "nbconvert_exporter": "python",
   "pygments_lexer": "ipython3",
   "version": "3.10.13"
  }
 },
 "nbformat": 4,
 "nbformat_minor": 2
}
