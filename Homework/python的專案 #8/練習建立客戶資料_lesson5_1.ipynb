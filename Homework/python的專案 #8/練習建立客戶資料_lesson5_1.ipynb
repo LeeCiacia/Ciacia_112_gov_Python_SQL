{
 "cells": [
  {
   "cell_type": "markdown",
   "metadata": {},
   "source": [
    "## 請依據sql/lesson5_1.sql,建立聯絡人和客戶資料表,並新增資料,請使用python的專案 #8"
   ]
  },
  {
   "cell_type": "markdown",
   "metadata": {},
   "source": [
    "## 建立環境"
   ]
  },
  {
   "cell_type": "code",
   "execution_count": 4,
   "metadata": {},
   "outputs": [
    {
     "data": {
      "text/plain": [
       "True"
      ]
     },
     "execution_count": 4,
     "metadata": {},
     "output_type": "execute_result"
    }
   ],
   "source": [
    "import psycopg2\n",
    "import os\n",
    "from psycopg2 import connect\n",
    "from dotenv import load_dotenv \n",
    "\n",
    "#初始化環境變數\n",
    "load_dotenv()\n"
   ]
  },
  {
   "cell_type": "markdown",
   "metadata": {},
   "source": [
    "## 建立聯絡人和客戶資料表"
   ]
  },
  {
   "cell_type": "code",
   "execution_count": 5,
   "metadata": {},
   "outputs": [],
   "source": [
    "#使用環境變數POSTGRE_PASSWORD, 取的密碼,並建立connect的實體 \n",
    "conn:connect = psycopg2.connect(os.environ['POSTGRE_PASSWORD'])\n",
    "\n",
    "#建立cursor實體，準備執行SQL\n",
    "cur = conn.cursor()\n",
    "sql = '''\n",
    "CREATE TABLE IF NOT EXISTS 客戶(\n",
    "\t客戶_id SERIAL,\n",
    "\t客戶名稱 VARCHAR(255) NOT NULL,\n",
    "\tPRIMARY KEY(客戶_id)\n",
    " );\n",
    " \n",
    "CREATE TABLE IF NOT EXISTS 聯絡人(\n",
    "\t 聯絡人id SERIAL,\n",
    "\t 客戶id INT,\n",
    "\t 聯絡人姓名 VARCHAR(255) NOT NULL,\n",
    "\t 電話 VARCHAR(15),\n",
    "\t 郵件 VARCHAR(100),\n",
    "\t PRIMARY KEY(聯絡人id),\n",
    "\t FOREIGN KEY(客戶id) REFERENCES 客戶(客戶_id)\n",
    "\t ON DELETE SET NULL\n",
    " );\n",
    "'''\n",
    "\n",
    "#執行SQL\n",
    "cur.execute(sql)\n",
    "\n",
    "#確認資料可以執行\n",
    "conn.commit()\n",
    "\n",
    "#關閉cursor\n",
    "cur.close()\n",
    "\n",
    "#關閉連線\n",
    "conn.close()\n"
   ]
  },
  {
   "cell_type": "markdown",
   "metadata": {},
   "source": [
    "## 新增客戶及聯絡人資料"
   ]
  },
  {
   "cell_type": "code",
   "execution_count": 6,
   "metadata": {},
   "outputs": [],
   "source": [
    "#使用環境變數POSTGRE_PASSWORD, 取的密碼,並建立connect的實體 \n",
    "conn:connect = psycopg2.connect(os.environ['POSTGRE_PASSWORD'])\n",
    "\n",
    "#建立cursor實體，準備執行SQL\n",
    "cur=conn.cursor()\n",
    "sql = '''\n",
    "INSERT INTO 客戶(客戶名稱)\n",
    "VALUES('遠傳電信'),\n",
    "\t ('台灣大車隊');\n",
    "\t \n",
    "INSERT INTO 聯絡人(客戶id,聯絡人姓名,電話,郵件)\n",
    "VALUES (1,'John Doe','(408)-111-1234','john.doe@bluebird.dev'),\n",
    "\t   (1,'Jane Doe','(408)-111-1235','jane.doe@bluebird.dev'),\n",
    "\t   (2,'David Wright','(408)-222-1234','david.wright@dolphin.dev');\n",
    "\n",
    "'''\n",
    "#執行SQL\n",
    "cur.execute(sql)\n",
    "\n",
    "#確認資料可以執行\n",
    "conn.commit()\n",
    "\n",
    "#關閉cursor\n",
    "cur.close()\n",
    "\n",
    "#關閉連線\n",
    "conn.close()"
   ]
  },
  {
   "cell_type": "markdown",
   "metadata": {},
   "source": [
    "## 顯示資料"
   ]
  },
  {
   "cell_type": "code",
   "execution_count": 14,
   "metadata": {},
   "outputs": [
    {
     "name": "stdout",
     "output_type": "stream",
     "text": [
      "[(1, '遠傳電信', 1, 1, 'John Doe', '(408)-111-1234', 'john.doe@bluebird.dev'), (1, '遠傳電信', 2, 1, 'Jane Doe', '(408)-111-1235', 'jane.doe@bluebird.dev'), (1, '遠傳電信', 3, 2, 'David Wright', '(408)-222-1234', 'david.wright@dolphin.dev'), (2, '台灣大車隊', 1, 1, 'John Doe', '(408)-111-1234', 'john.doe@bluebird.dev'), (2, '台灣大車隊', 2, 1, 'Jane Doe', '(408)-111-1235', 'jane.doe@bluebird.dev'), (2, '台灣大車隊', 3, 2, 'David Wright', '(408)-222-1234', 'david.wright@dolphin.dev')]\n"
     ]
    }
   ],
   "source": [
    "#使用環境變數POSTGRE_PASSWORD, 取的密碼,並建立connect的實體 \n",
    "conn:connect = psycopg2.connect(os.environ['POSTGRE_PASSWORD'])\n",
    "\n",
    "#建立cursor實體，準備執行SQL\n",
    "cur=conn.cursor()\n",
    "sql = '''\n",
    "SELECT *\n",
    "FROM 客戶, 聯絡人\n",
    "\n",
    "'''\n",
    "#執行SQL\n",
    "cur.execute(sql)\n",
    "\n",
    "#確認資料可以執行\n",
    "conn.commit()\n",
    "\n",
    "#顯示資料\n",
    "print(cur.fetchall())\n",
    "\n",
    "#關閉cursor\n",
    "cur.close()\n",
    "\n",
    "#關閉連線\n",
    "conn.close()"
   ]
  },
  {
   "cell_type": "markdown",
   "metadata": {},
   "source": [
    "## "
   ]
  }
 ],
 "metadata": {
  "kernelspec": {
   "display_name": "myenv",
   "language": "python",
   "name": "python3"
  },
  "language_info": {
   "codemirror_mode": {
    "name": "ipython",
    "version": 3
   },
   "file_extension": ".py",
   "mimetype": "text/x-python",
   "name": "python",
   "nbconvert_exporter": "python",
   "pygments_lexer": "ipython3",
   "version": "3.10.13"
  }
 },
 "nbformat": 4,
 "nbformat_minor": 2
}
