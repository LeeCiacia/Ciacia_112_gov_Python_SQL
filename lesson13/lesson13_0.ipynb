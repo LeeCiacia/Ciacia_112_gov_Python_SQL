{
 "cells": [
  {
   "cell_type": "code",
   "execution_count": 6,
   "metadata": {},
   "outputs": [
    {
     "data": {
      "text/plain": [
       "True"
      ]
     },
     "execution_count": 6,
     "metadata": {},
     "output_type": "execute_result"
    }
   ],
   "source": [
    "#建立電腦的環境變數(不是真實的，是模擬的)，並且載入\n",
    "from dotenv import load_dotenv\n",
    "load_dotenv()"
   ]
  },
  {
   "cell_type": "code",
   "execution_count": 7,
   "metadata": {},
   "outputs": [],
   "source": [
    "#連線資料庫\n",
    "#使用電腦的環境變數\n",
    "import psycopg2\n",
    "import os\n",
    "conn = psycopg2.connect(os.environ['POSTGRE_PASSWORD'])\n",
    "\n",
    "conn.commit()   #SQL語法中的分號;就等於那排是一個命令\n",
    "conn.close()"
   ]
  },
  {
   "cell_type": "code",
   "execution_count": 8,
   "metadata": {},
   "outputs": [],
   "source": [
    "#使用with as 的語法，可以自動commit()，close()\n",
    "#上面程式碼的簡化自動版\n",
    "with psycopg2.connect(os.environ['POSTGRE_PASSWORD']) as conn:  \n",
    "    cursor = conn.cursor()\n",
    "    sql = '''\n",
    "        CREATE TABLE IF NOT EXISTS 客戶(\n",
    "\t    客戶_id SERIAL,\n",
    "\t    客戶名稱 VARCHAR(255) NOT NULL,\n",
    "\t    PRIMARY KEY(客戶_id)\n",
    "        );\n",
    "    '''\n",
    "    cursor.execute(sql)\n",
    "\n",
    "    sql = '''\n",
    "        CREATE TABLE IF NOT EXISTS 聯絡人(\n",
    "\t    聯絡人id SERIAL,\n",
    "\t    客戶id INT,\n",
    "\t    聯絡人姓名 VARCHAR(255) NOT NULL,\n",
    "\t    電話 VARCHAR(15),\n",
    "\t    郵件 VARCHAR(100),\n",
    "\t    PRIMARY KEY(聯絡人id),\n",
    "\t    FOREIGN KEY(客戶id) REFERENCES 客戶(客戶_id)\n",
    "\t    ON DELETE SET NULL\n",
    "         );\n",
    "    '''\n",
    "    cursor.execute(sql)\n",
    "    cursor.close()"
   ]
  },
  {
   "cell_type": "code",
   "execution_count": 9,
   "metadata": {},
   "outputs": [],
   "source": [
    "conn = psycopg2.connect(os.environ['POSTGRE_PASSWORD'])\n",
    "with conn:\n",
    "    with conn.cursor() as cursor:    #有加上as會自動close\n",
    "        sql='''\n",
    "            INSERT INTO 客戶(客戶名稱)\n",
    "            VALUES('遠傳電信'),\n",
    "\t        ('台灣大車隊');\n",
    "        '''\n",
    "        cursor.execute(sql)\n",
    "conn.close()"
   ]
  },
  {
   "cell_type": "code",
   "execution_count": 10,
   "metadata": {},
   "outputs": [],
   "source": [
    "with psycopg2.connect(os.environ['POSTGRE_PASSWORD']) as conn:\n",
    "    with conn.cursor() as cursor:\n",
    "        sql='''\n",
    "            INSERT INTO 聯絡人(客戶id,聯絡人姓名,電話,郵件)\n",
    "            VALUES (1,'John Doe','(408)-111-1234','john.doe@bluebird.dev'),\n",
    "\t        (1,'Jane Doe','(408)-111-1235','jane.doe@bluebird.dev'),\n",
    "\t        (2,'David Wright','(408)-222-1234','david.wright@dolphin.dev');\n",
    "        '''\n",
    "        cursor.execute(sql)\n"
   ]
  },
  {
   "cell_type": "code",
   "execution_count": 14,
   "metadata": {},
   "outputs": [
    {
     "name": "stdout",
     "output_type": "stream",
     "text": [
      "(1, '遠傳電信', 'John Doe', '(408)-111-1234', 'john.doe@bluebird.dev')\n",
      "(2, '遠傳電信', 'Jane Doe', '(408)-111-1235', 'jane.doe@bluebird.dev')\n",
      "(3, '台灣大車隊', 'David Wright', '(408)-222-1234', 'david.wright@dolphin.dev')\n"
     ]
    }
   ],
   "source": [
    "with psycopg2.connect(os.environ['POSTGRE_PASSWORD']) as conn:\n",
    "    with conn.cursor() as cursor:\n",
    "        sql='''\n",
    "            SELECT 聯絡人id,客戶名稱,聯絡人姓名,電話,郵件\n",
    "            FROM 聯絡人 LEFT JOIN 客戶 ON 聯絡人.客戶id = 客戶.客戶_id\n",
    "        '''\n",
    "        cursor.execute(sql)\n",
    "        datas:list  = cursor.fetchmany(10) #10表示10筆資料，看要取出幾筆(但這次資料只有3筆，所以只會出現3筆) \n",
    "\n",
    "for item in datas:\n",
    "    print(item)\n",
    "\n"
   ]
  },
  {
   "cell_type": "code",
   "execution_count": 15,
   "metadata": {},
   "outputs": [
    {
     "name": "stdout",
     "output_type": "stream",
     "text": [
      "(1, '遠傳電信', 'John Doe', '(408)-111-1234', 'john.doe@bluebird.dev')\n",
      "(2, '遠傳電信', 'Jane Doe', '(408)-111-1235', 'jane.doe@bluebird.dev')\n",
      "(3, '台灣大車隊', 'David Wright', '(408)-222-1234', 'david.wright@dolphin.dev')\n"
     ]
    }
   ],
   "source": [
    "#\n",
    "with psycopg2.connect(os.environ['POSTGRE_PASSWORD']) as conn:\n",
    "    with conn.cursor() as cursor:\n",
    "        sql='''\n",
    "            SELECT 聯絡人id,客戶名稱,聯絡人姓名,電話,郵件\n",
    "            FROM 聯絡人 LEFT JOIN 客戶 ON 聯絡人.客戶id = 客戶.客戶_id\n",
    "        '''\n",
    "        cursor.execute(sql)\n",
    "        while True:     #如果不知道筆數的時候，可以這樣寫\n",
    "            oneItem = cursor.fetchone()\n",
    "            if oneItem is not None:\n",
    "                print(oneItem)\n",
    "            else:\n",
    "                break"
   ]
  }
 ],
 "metadata": {
  "kernelspec": {
   "display_name": "myenv",
   "language": "python",
   "name": "python3"
  },
  "language_info": {
   "codemirror_mode": {
    "name": "ipython",
    "version": 3
   },
   "file_extension": ".py",
   "mimetype": "text/x-python",
   "name": "python",
   "nbconvert_exporter": "python",
   "pygments_lexer": "ipython3",
   "version": "3.10.13"
  }
 },
 "nbformat": 4,
 "nbformat_minor": 2
}
